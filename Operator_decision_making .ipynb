{
 "cells": [
  {
   "cell_type": "markdown",
   "metadata": {},
   "source": [
    "1. Write a program in Python to perform the following operation:\n",
    "\n",
    "● If a number is divisible by 3 it should print “Consultadd” as a string\n",
    "\n",
    "● If a number is divisible by 5 it should print “c” as a string\n",
    "\n",
    "● If a number is divisible by both 3 and 5 its should print “Consultadd\n",
    "\n",
    "Python Training” as a string.\n",
    "\n"
   ]
  },
  {
   "cell_type": "code",
   "execution_count": 7,
   "metadata": {},
   "outputs": [
    {
     "name": "stdout",
     "output_type": "stream",
     "text": [
      "c\n"
     ]
    }
   ],
   "source": [
    "number=10\n",
    "if number%3==0:\n",
    "    print(\"Consultadd\")\n",
    "if number%5==0:\n",
    "    print('c')\n",
    "if number%5==0 and number%3==0:\n",
    "    print(\"Consultadd python Training\")"
   ]
  },
  {
   "cell_type": "code",
   "execution_count": null,
   "metadata": {},
   "outputs": [],
   "source": []
  }
 ],
 "metadata": {
  "kernelspec": {
   "display_name": "Python 3",
   "language": "python",
   "name": "python3"
  },
  "language_info": {
   "codemirror_mode": {
    "name": "ipython",
    "version": 3
   },
   "file_extension": ".py",
   "mimetype": "text/x-python",
   "name": "python",
   "nbconvert_exporter": "python",
   "pygments_lexer": "ipython3",
   "version": "3.7.6"
  }
 },
 "nbformat": 4,
 "nbformat_minor": 4
}
