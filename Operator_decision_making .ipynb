{
 "cells": [
  {
   "cell_type": "markdown",
   "metadata": {},
   "source": [
    "1. Write a program in Python to perform the following operation:\n",
    "\n",
    "● If a number is divisible by 3 it should print “Consultadd” as a string\n",
    "\n",
    "● If a number is divisible by 5 it should print “c” as a string\n",
    "\n",
    "● If a number is divisible by both 3 and 5 its should print “Consultadd\n",
    "\n",
    "Python Training” as a string.\n",
    "\n"
   ]
  },
  {
   "cell_type": "code",
   "execution_count": 7,
   "metadata": {},
   "outputs": [
    {
     "name": "stdout",
     "output_type": "stream",
     "text": [
      "c\n"
     ]
    }
   ],
   "source": [
    "number=10\n",
    "if number%3==0:\n",
    "    print(\"Consultadd\")\n",
    "if number%5==0:\n",
    "    print('c')\n",
    "if number%5==0 and number%3==0:\n",
    "    print(\"Consultadd python Training\")"
   ]
  },
  {
   "cell_type": "markdown",
   "metadata": {},
   "source": [
    "2. Write a program in Python to perform the following operator based task:\n",
    "\n",
    "● Ask the user to choose the following option first:\n",
    "\n",
    "○ If User Enter 1 - Addition\n",
    "\n",
    "○ If User Enter 2 - Subtraction\n",
    "\n",
    "○ If User Enter 3 - Division\n",
    "\n",
    "○ If USer Enter 4 - Multiplication\n",
    "\n",
    "○ If User Enter 5 - Average"
   ]
  },
  {
   "cell_type": "code",
   "execution_count": 13,
   "metadata": {},
   "outputs": [
    {
     "name": "stdout",
     "output_type": "stream",
     "text": [
      "Enter number number from 1 to 5:4\n"
     ]
    }
   ],
   "source": [
    "value=int(input(\"Enter number number from 1 to 5:\"))"
   ]
  },
  {
   "cell_type": "code",
   "execution_count": 17,
   "metadata": {},
   "outputs": [
    {
     "name": "stdout",
     "output_type": "stream",
     "text": [
      "8\n"
     ]
    }
   ],
   "source": [
    "number=value\n",
    "if value==1:\n",
    "    addition=value+2\n",
    "    print(addition)\n",
    "if value==2:\n",
    "    subtraction=value-1\n",
    "    print(subtraction)\n",
    "if value==3:\n",
    "    division=value/3\n",
    "    print(division)\n",
    "if value==4:\n",
    "    multiplication=value*2\n",
    "    print(multiplication)\n",
    "if value==5:\n",
    "    average=value/1\n",
    "    print(average)\n",
    "\n"
   ]
  },
  {
   "cell_type": "code",
   "execution_count": 19,
   "metadata": {},
   "outputs": [
    {
     "name": "stdout",
     "output_type": "stream",
     "text": [
      "please enter the first value:1\n",
      "please enter the second value:2\n"
     ]
    }
   ],
   "source": [
    "value1=int(input('please enter the first value:'))\n",
    "value2=int(input('please enter the second value:'))"
   ]
  },
  {
   "cell_type": "code",
   "execution_count": 26,
   "metadata": {},
   "outputs": [],
   "source": [
    "value3=[value1, value2]"
   ]
  },
  {
   "cell_type": "code",
   "execution_count": 28,
   "metadata": {},
   "outputs": [
    {
     "data": {
      "text/plain": [
       "list"
      ]
     },
     "execution_count": 28,
     "metadata": {},
     "output_type": "execute_result"
    }
   ],
   "source": [
    "type(value3)"
   ]
  },
  {
   "cell_type": "code",
   "execution_count": 23,
   "metadata": {},
   "outputs": [
    {
     "name": "stdout",
     "output_type": "stream",
     "text": [
      "Enter number number from 1 to 5:5\n"
     ]
    }
   ],
   "source": [
    "value=int(input(\"Enter number number from 1 to 5:\"))"
   ]
  },
  {
   "cell_type": "code",
   "execution_count": 31,
   "metadata": {},
   "outputs": [
    {
     "name": "stdout",
     "output_type": "stream",
     "text": [
      "Average for two variable value1 and value2 is 1.5\n"
     ]
    }
   ],
   "source": [
    "# calucating the average value from two number when the condition is true for value 5\n",
    "if value==5:\n",
    "    average=(value1+value2)/len(value3)\n",
    "    print(\"Average for two variable value1 and value2 is {}\".format(average))"
   ]
  },
  {
   "cell_type": "code",
   "execution_count": 32,
   "metadata": {},
   "outputs": [
    {
     "name": "stdout",
     "output_type": "stream",
     "text": [
      "Enter number number from 1 to 5:5\n"
     ]
    }
   ],
   "source": [
    "# CASE FOR THE NEGATIVE VALUE AND PRINT Zsa\n",
    "value=int(input(\"Enter number number from 1 to 5:\"))\n"
   ]
  },
  {
   "cell_type": "code",
   "execution_count": 33,
   "metadata": {},
   "outputs": [
    {
     "name": "stdout",
     "output_type": "stream",
     "text": [
      "please enter the first value:-2\n",
      "please enter the second value:-3\n"
     ]
    }
   ],
   "source": [
    "value1=int(input('please enter the first value:'))\n",
    "value2=int(input('please enter the second value:'))"
   ]
  },
  {
   "cell_type": "code",
   "execution_count": 35,
   "metadata": {},
   "outputs": [
    {
     "name": "stdout",
     "output_type": "stream",
     "text": [
      "Average for two variable value1 and value2 is -2.5\n",
      "Zsa\n"
     ]
    }
   ],
   "source": [
    "if value==5:\n",
    "    average=(value1+value2)/len(value3)\n",
    "    print(\"Average for two variable value1 and value2 is {}\".format(average))\n",
    "    if average<0:\n",
    "        print(\"Zsa\")\n"
   ]
  },
  {
   "cell_type": "markdown",
   "metadata": {},
   "source": [
    "we can see above when aveage is negative then if statement print Zsa "
   ]
  },
  {
   "cell_type": "markdown",
   "metadata": {},
   "source": [
    "3.Write a program in Python to implement the given flowchart:"
   ]
  },
  {
   "cell_type": "code",
   "execution_count": 38,
   "metadata": {},
   "outputs": [
    {
     "name": "stdout",
     "output_type": "stream",
     "text": [
      "20.0\n",
      "avg is just higher than a\n"
     ]
    }
   ],
   "source": [
    "a=10\n",
    "b=20\n",
    "c=30\n",
    "avg=(a+b+c)/3\n",
    "print(avg)\n",
    "if avg>a and avg>b and avg>c:\n",
    "    print('avg is higher than a, b, c')\n",
    "elif avg>a and avg>b:\n",
    "    print('avg is higher than a,b,c')\n",
    "elif avg>a and avg>c:\n",
    "    print('avg is higher than a,b, c')\n",
    "elif avg>b and avg>c:\n",
    "    print('avg is higher than b, c')\n",
    "elif avg>a:\n",
    "    print('avg is just higher than a')\n",
    "elif avg>b:\n",
    "    print(\"avg is just higher than b\")\n",
    "elif avg>c:\n",
    "    print('avg is just higher than c')\n",
    "                \n",
    "else:\n",
    "    print(\"none of the above support\")\n",
    "                \n",
    "             \n",
    "    \n",
    "    "
   ]
  },
  {
   "cell_type": "markdown",
   "metadata": {},
   "source": [
    "4. Write a program in Python to break and continue if the following cases occurs:\n",
    "\n",
    "● If user enters a negative number just break the loop and print “It’s Over”\n",
    "\n",
    "● If user enters a positive number just continue in the loop and print “Good Going”\n",
    "\n"
   ]
  },
  {
   "cell_type": "code",
   "execution_count": 47,
   "metadata": {},
   "outputs": [],
   "source": [
    "input_data=[1,2,-4,6,7]"
   ]
  },
  {
   "cell_type": "code",
   "execution_count": 48,
   "metadata": {},
   "outputs": [
    {
     "name": "stdout",
     "output_type": "stream",
     "text": [
      "Good going\n",
      "Good going\n",
      "its Over\n"
     ]
    }
   ],
   "source": [
    "for i in input_data:\n",
    "    if i<0:\n",
    "        print(\"its Over\")\n",
    "        break\n",
    "    if i>0:\n",
    "        print(\"Good going\")\n",
    "        continue \n",
    "    "
   ]
  },
  {
   "cell_type": "markdown",
   "metadata": {},
   "source": [
    "5. Write a program in Python which will find all such numbers which are divisible by 7 but are not a multiple of 5, \n",
    "between 2000 and 3200."
   ]
  },
  {
   "cell_type": "code",
   "execution_count": 70,
   "metadata": {},
   "outputs": [
    {
     "name": "stdout",
     "output_type": "stream",
     "text": [
      "2002,2009,2016,2023,2030,2037,2044,2051,2058,2065,2072,2079,2086,2093,2100,2107,2114,2121,2128,2135,2142,2149,2156,2163,2170,2177,2184,2191,2198,2205,2212,2219,2226,2233,2240,2247,2254,2261,2268,2275,2282,2289,2296,2303,2310,2317,2324,2331,2338,2345,2352,2359,2366,2373,2380,2387,2394,2401,2408,2415,2422,2429,2436,2443,2450,2457,2464,2471,2478,2485,2492,2499,2506,2513,2520,2527,2534,2541,2548,2555,2562,2569,2576,2583,2590,2597,2604,2611,2618,2625,2632,2639,2646,2653,2660,2667,2674,2681,2688,2695,2702,2709,2716,2723,2730,2737,2744,2751,2758,2765,2772,2779,2786,2793,2800,2807,2814,2821,2828,2835,2842,2849,2856,2863,2870,2877,2884,2891,2898,2905,2912,2919,2926,2933,2940,2947,2954,2961,2968,2975,2982,2989,2996,3003,3010,3017,3024,3031,3038,3045,3052,3059,3066,3073,3080,3087,3094,3101,3108,3115,3122,3129,3136,3143,3150,3157,3164,3171,3178,3185,3192,3199\n"
     ]
    }
   ],
   "source": [
    "\n",
    "a=[]\n",
    "for i in range(2000,3200):\n",
    "    if i%7==0 & i%5==0:\n",
    "        a.append(str(i))\n",
    "print(','.join(a))\n",
    "\n",
    "\n",
    "       \n",
    "        "
   ]
  },
  {
   "cell_type": "code",
   "execution_count": 87,
   "metadata": {},
   "outputs": [
    {
     "ename": "IndentationError",
     "evalue": "expected an indented block (<ipython-input-87-47af26546687>, line 9)",
     "output_type": "error",
     "traceback": [
      "\u001b[0;36m  File \u001b[0;32m\"<ipython-input-87-47af26546687>\"\u001b[0;36m, line \u001b[0;32m9\u001b[0m\n\u001b[0;31m    break\u001b[0m\n\u001b[0m        ^\u001b[0m\n\u001b[0;31mIndentationError\u001b[0m\u001b[0;31m:\u001b[0m expected an indented block\n"
     ]
    }
   ],
   "source": [
    "x=123  \n",
    "for i in x: \n",
    "    print(i) \n",
    "i = 0 \n",
    "while i < 5: \n",
    "    print(i) \n",
    "    i += 1 \n",
    "if i == 3: \n",
    "    break \n",
    "else: \n",
    "    print(\"error\")\n",
    "count = 0 \n",
    "    while True: \n",
    "        print(count) \n",
    "        count += 1 \n",
    "if count >= 5: \n",
    "    break "
   ]
  },
  {
   "cell_type": "markdown",
   "metadata": {},
   "source": [
    "7. Write a program that prints all the numbers from 0 to 6 except 3 and 6. \n",
    "\n",
    "       Expected output: 0 1 2 4 5 \n",
    "\n",
    "Note: Use ‘continue’ statement "
   ]
  },
  {
   "cell_type": "code",
   "execution_count": 5,
   "metadata": {},
   "outputs": [
    {
     "name": "stdout",
     "output_type": "stream",
     "text": [
      "01245\n",
      "\n"
     ]
    }
   ],
   "source": [
    "x=range(0,7)\n",
    "for x in range(6):\n",
    "    if (x==3 or x==6):\n",
    "        continue\n",
    "    print(x, end='')\n",
    "print(\"\\n\")\n",
    "\n",
    "    \n",
    "    \n"
   ]
  },
  {
   "cell_type": "markdown",
   "metadata": {},
   "source": [
    "8. Write a program that accepts a string as an input from user and calculate the number of digits and letters. \n",
    "\n",
    "     Expected output: consul12 \n",
    "\n",
    "     Letters 6 \n",
    "\n",
    "     Digits 2 "
   ]
  },
  {
   "cell_type": "code",
   "execution_count": 11,
   "metadata": {},
   "outputs": [
    {
     "name": "stdout",
     "output_type": "stream",
     "text": [
      "enter the string:kiran9843\n",
      "letter  5\n",
      "digit  4\n"
     ]
    }
   ],
   "source": [
    "inputs= input(\"enter the string:\")\n",
    "d=0\n",
    "l=0\n",
    "for i in inputs:\n",
    "    if i.isdigit():\n",
    "        d=d+1\n",
    "    elif i.isalpha():\n",
    "        l=l+1\n",
    "    else:\n",
    "        pass\n",
    "print(\"letter \", l)\n",
    "print(\"digit \", d)"
   ]
  },
  {
   "cell_type": "markdown",
   "metadata": {},
   "source": [
    "9. Read the two parts of the question below:  \n",
    "\n",
    "a. Write a program such that it asks users to “guess the lucky number”. If the correct number is guessed the program\n",
    "stops, otherwise it continues forever.  \n",
    "b. Modify the program so that it asks users whether they want to guess again each time. Use two variables, ‘number’\n",
    "for the number and ‘answer’ for the answer to the question whether they want to continue guessing. The program stops \n",
    "if the user guesses the correct number or answers “no”. ( The program continues as long as a user has not answered \n",
    "“no” and has not guessed the correct number) \n",
    "\n",
    " \n",
    "\n",
    " "
   ]
  },
  {
   "cell_type": "code",
   "execution_count": 20,
   "metadata": {},
   "outputs": [
    {
     "name": "stdout",
     "output_type": "stream",
     "text": [
      "10\n"
     ]
    }
   ],
   "source": [
    "lucky_number=10\n",
    "guess=input()\n"
   ]
  },
  {
   "cell_type": "code",
   "execution_count": 21,
   "metadata": {},
   "outputs": [
    {
     "name": "stdout",
     "output_type": "stream",
     "text": [
      "10\n"
     ]
    }
   ],
   "source": [
    "print(guess)"
   ]
  },
  {
   "cell_type": "code",
   "execution_count": 27,
   "metadata": {},
   "outputs": [
    {
     "ename": "IndentationError",
     "evalue": "expected an indented block (<ipython-input-27-f3e579e9d570>, line 5)",
     "output_type": "error",
     "traceback": [
      "\u001b[0;36m  File \u001b[0;32m\"<ipython-input-27-f3e579e9d570>\"\u001b[0;36m, line \u001b[0;32m5\u001b[0m\n\u001b[0;31m    continue\u001b[0m\n\u001b[0m            ^\u001b[0m\n\u001b[0;31mIndentationError\u001b[0m\u001b[0;31m:\u001b[0m expected an indented block\n"
     ]
    }
   ],
   "source": [
    "while guess==lucky_number:\n",
    "    if guess==lucky_number:\n",
    "        print(\"stop\")\n",
    "    else:\n",
    "continue"
   ]
  },
  {
   "cell_type": "code",
   "execution_count": null,
   "metadata": {},
   "outputs": [],
   "source": []
  }
 ],
 "metadata": {
  "kernelspec": {
   "display_name": "Python 3",
   "language": "python",
   "name": "python3"
  },
  "language_info": {
   "codemirror_mode": {
    "name": "ipython",
    "version": 3
   },
   "file_extension": ".py",
   "mimetype": "text/x-python",
   "name": "python",
   "nbconvert_exporter": "python",
   "pygments_lexer": "ipython3",
   "version": "3.7.6"
  }
 },
 "nbformat": 4,
 "nbformat_minor": 4
}
