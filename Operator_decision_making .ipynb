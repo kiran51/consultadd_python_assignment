{
 "cells": [
  {
   "cell_type": "markdown",
   "metadata": {},
   "source": [
    "1. Write a program in Python to perform the following operation:\n",
    "\n",
    "● If a number is divisible by 3 it should print “Consultadd” as a string\n",
    "\n",
    "● If a number is divisible by 5 it should print “c” as a string\n",
    "\n",
    "● If a number is divisible by both 3 and 5 its should print “Consultadd\n",
    "\n",
    "Python Training” as a string.\n",
    "\n"
   ]
  },
  {
   "cell_type": "code",
   "execution_count": 7,
   "metadata": {},
   "outputs": [
    {
     "name": "stdout",
     "output_type": "stream",
     "text": [
      "c\n"
     ]
    }
   ],
   "source": [
    "number=10\n",
    "if number%3==0:\n",
    "    print(\"Consultadd\")\n",
    "if number%5==0:\n",
    "    print('c')\n",
    "if number%5==0 and number%3==0:\n",
    "    print(\"Consultadd python Training\")"
   ]
  },
  {
   "cell_type": "markdown",
   "metadata": {},
   "source": [
    "2. Write a program in Python to perform the following operator based task:\n",
    "\n",
    "● Ask the user to choose the following option first:\n",
    "\n",
    "○ If User Enter 1 - Addition\n",
    "\n",
    "○ If User Enter 2 - Subtraction\n",
    "\n",
    "○ If User Enter 3 - Division\n",
    "\n",
    "○ If USer Enter 4 - Multiplication\n",
    "\n",
    "○ If User Enter 5 - Average"
   ]
  },
  {
   "cell_type": "code",
   "execution_count": 13,
   "metadata": {},
   "outputs": [
    {
     "name": "stdout",
     "output_type": "stream",
     "text": [
      "Enter number number from 1 to 5:4\n"
     ]
    }
   ],
   "source": [
    "value=int(input(\"Enter number number from 1 to 5:\"))"
   ]
  },
  {
   "cell_type": "code",
   "execution_count": 17,
   "metadata": {},
   "outputs": [
    {
     "name": "stdout",
     "output_type": "stream",
     "text": [
      "8\n"
     ]
    }
   ],
   "source": [
    "number=value\n",
    "if value==1:\n",
    "    addition=value+2\n",
    "    print(addition)\n",
    "if value==2:\n",
    "    subtraction=value-1\n",
    "    print(subtraction)\n",
    "if value==3:\n",
    "    division=value/3\n",
    "    print(division)\n",
    "if value==4:\n",
    "    multiplication=value*2\n",
    "    print(multiplication)\n",
    "if value==5:\n",
    "    average=value/1\n",
    "    print(average)\n",
    "\n"
   ]
  },
  {
   "cell_type": "code",
   "execution_count": 19,
   "metadata": {},
   "outputs": [
    {
     "name": "stdout",
     "output_type": "stream",
     "text": [
      "please enter the first value:1\n",
      "please enter the second value:2\n"
     ]
    }
   ],
   "source": [
    "value1=int(input('please enter the first value:'))\n",
    "value2=int(input('please enter the second value:'))"
   ]
  },
  {
   "cell_type": "code",
   "execution_count": 26,
   "metadata": {},
   "outputs": [],
   "source": [
    "value3=[value1, value2]"
   ]
  },
  {
   "cell_type": "code",
   "execution_count": 28,
   "metadata": {},
   "outputs": [
    {
     "data": {
      "text/plain": [
       "list"
      ]
     },
     "execution_count": 28,
     "metadata": {},
     "output_type": "execute_result"
    }
   ],
   "source": [
    "type(value3)"
   ]
  },
  {
   "cell_type": "code",
   "execution_count": 23,
   "metadata": {},
   "outputs": [
    {
     "name": "stdout",
     "output_type": "stream",
     "text": [
      "Enter number number from 1 to 5:5\n"
     ]
    }
   ],
   "source": [
    "value=int(input(\"Enter number number from 1 to 5:\"))"
   ]
  },
  {
   "cell_type": "code",
   "execution_count": 31,
   "metadata": {},
   "outputs": [
    {
     "name": "stdout",
     "output_type": "stream",
     "text": [
      "Average for two variable value1 and value2 is 1.5\n"
     ]
    }
   ],
   "source": [
    "# calucating the average value from two number when the condition is true for value 5\n",
    "if value==5:\n",
    "    average=(value1+value2)/len(value3)\n",
    "    print(\"Average for two variable value1 and value2 is {}\".format(average))"
   ]
  },
  {
   "cell_type": "code",
   "execution_count": 32,
   "metadata": {},
   "outputs": [
    {
     "name": "stdout",
     "output_type": "stream",
     "text": [
      "Enter number number from 1 to 5:5\n"
     ]
    }
   ],
   "source": [
    "# CASE FOR THE NEGATIVE VALUE AND PRINT Zsa\n",
    "value=int(input(\"Enter number number from 1 to 5:\"))\n"
   ]
  },
  {
   "cell_type": "code",
   "execution_count": 33,
   "metadata": {},
   "outputs": [
    {
     "name": "stdout",
     "output_type": "stream",
     "text": [
      "please enter the first value:-2\n",
      "please enter the second value:-3\n"
     ]
    }
   ],
   "source": [
    "value1=int(input('please enter the first value:'))\n",
    "value2=int(input('please enter the second value:'))"
   ]
  },
  {
   "cell_type": "code",
   "execution_count": 35,
   "metadata": {},
   "outputs": [
    {
     "name": "stdout",
     "output_type": "stream",
     "text": [
      "Average for two variable value1 and value2 is -2.5\n",
      "Zsa\n"
     ]
    }
   ],
   "source": [
    "if value==5:\n",
    "    average=(value1+value2)/len(value3)\n",
    "    print(\"Average for two variable value1 and value2 is {}\".format(average))\n",
    "    if average<0:\n",
    "        print(\"Zsa\")\n"
   ]
  },
  {
   "cell_type": "code",
   "execution_count": null,
   "metadata": {},
   "outputs": [],
   "source": [
    "we can see above when aveage "
   ]
  }
 ],
 "metadata": {
  "kernelspec": {
   "display_name": "Python 3",
   "language": "python",
   "name": "python3"
  },
  "language_info": {
   "codemirror_mode": {
    "name": "ipython",
    "version": 3
   },
   "file_extension": ".py",
   "mimetype": "text/x-python",
   "name": "python",
   "nbconvert_exporter": "python",
   "pygments_lexer": "ipython3",
   "version": "3.7.6"
  }
 },
 "nbformat": 4,
 "nbformat_minor": 4
}
