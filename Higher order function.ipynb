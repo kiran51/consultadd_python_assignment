{
 "cells": [
  {
   "cell_type": "code",
   "execution_count": 1,
   "metadata": {},
   "outputs": [
    {
     "name": "stdout",
     "output_type": "stream",
     "text": [
      "[7, 49]\n"
     ]
    }
   ],
   "source": [
    "# 1. Write a program to Python find the values which is not divisible 3 but is should be a multiple of 7.\n",
    "# Make sure to use only higher order function.\n",
    "\n",
    "theList = [3, 6, 7, 49,  21, 42, 63] ## Using a sample list of values\n",
    "result = filter(lambda x: (x%3 != 0 and x%7 == 0), theList)\n",
    "print(list(result))"
   ]
  },
  {
   "cell_type": "code",
   "execution_count": null,
   "metadata": {},
   "outputs": [],
   "source": []
  }
 ],
 "metadata": {
  "kernelspec": {
   "display_name": "Python 3",
   "language": "python",
   "name": "python3"
  },
  "language_info": {
   "codemirror_mode": {
    "name": "ipython",
    "version": 3
   },
   "file_extension": ".py",
   "mimetype": "text/x-python",
   "name": "python",
   "nbconvert_exporter": "python",
   "pygments_lexer": "ipython3",
   "version": "3.7.4"
  }
 },
 "nbformat": 4,
 "nbformat_minor": 2
}
