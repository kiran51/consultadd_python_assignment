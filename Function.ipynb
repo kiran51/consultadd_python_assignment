{
 "cells": [
  {
   "cell_type": "markdown",
   "metadata": {},
   "source": [
    "1. Write a program using function USINto reverse a string. \n",
    "\n",
    "Sample data: “1234abcd” \n",
    "\n",
    "Expected Output: “dcba4321” "
   ]
  },
  {
   "cell_type": "code",
   "execution_count": 5,
   "metadata": {},
   "outputs": [
    {
     "name": "stdout",
     "output_type": "stream",
     "text": [
      "dcba4321\n"
     ]
    }
   ],
   "source": [
    "def reverse_string(string):\n",
    "    string1=''\n",
    "    index=len(string)\n",
    "    while index>0:\n",
    "        string1+=string[index-1]\n",
    "        index=index-1\n",
    "    return string1\n",
    "print(reverse_string('1234abcd'))\n"
   ]
  },
  {
   "cell_type": "markdown",
   "metadata": {},
   "source": [
    "2. Write a function that accepts a string and calculate the number of uppercase letters and lowercase letters. \n",
    "\n",
    "Expected Output: \n",
    "\n",
    "No. of Upper case characters : 3 \n",
    "\n",
    "No. of Lower case Characters : 12 \n",
    "\n",
    " "
   ]
  },
  {
   "cell_type": "code",
   "execution_count": 21,
   "metadata": {},
   "outputs": [
    {
     "name": "stdout",
     "output_type": "stream",
     "text": [
      "No of Upper case characters: 3\n",
      "No of lower case characters: 13\n"
     ]
    }
   ],
   "source": [
    "def string_test(s):\n",
    "    d={\"upper_case\":0, \"lower_case\":0}\n",
    "    for i in s:\n",
    "        if i.isupper():\n",
    "            d[\"upper_case\"]+=1\n",
    "        elif i.islower():\n",
    "            d[\"lower_case\"]+=1\n",
    "        else:\n",
    "            pass\n",
    "    print(\"No of Upper case characters:\",d[\"upper_case\"])\n",
    "    print(\"No of lower case characters:\",d[\"lower_case\"])\n",
    "string_test(\"KiranAdhikariSmt\")"
   ]
  },
  {
   "cell_type": "markdown",
   "metadata": {},
   "source": [
    "3.Create a function that takes a list and returns a new list with unique elements of the first list. "
   ]
  },
  {
   "cell_type": "code",
   "execution_count": 26,
   "metadata": {},
   "outputs": [
    {
     "name": "stdout",
     "output_type": "stream",
     "text": [
      "[1, 2, 3, 4, 5]\n"
     ]
    }
   ],
   "source": [
    "def unique_element(a):\n",
    "    s =[]\n",
    "    for i in a:\n",
    "        if i not in s:\n",
    "            s.append(i)\n",
    "    return(s)\n",
    "print(unique_element([1,2,2,3,4,4,5]))"
   ]
  },
  {
   "cell_type": "markdown",
   "metadata": {},
   "source": [
    "4. Write a program that accepts a hyphen-separated sequence of words as input and prints the words in a \n",
    "    hyphen-separated sequence after sorting them alphabetically. \n",
    "\n",
    " "
   ]
  },
  {
   "cell_type": "code",
   "execution_count": 29,
   "metadata": {},
   "outputs": [
    {
     "name": "stdout",
     "output_type": "stream",
     "text": [
      "kiran-adhikari-python\n",
      "adhikari-kiran-python\n"
     ]
    }
   ],
   "source": [
    "inputs=[n for n in input().split('-')]\n",
    "inputs.sort()\n",
    "print('-'.join(inputs))"
   ]
  },
  {
   "cell_type": "markdown",
   "metadata": {},
   "source": [
    "5.  Write a program that accepts a sequence of lines as input and prints the lines after \n",
    "making all characters in the sentence capitalized. \n",
    "\n",
    "Sample input: \n",
    "\n",
    "Hello world \n",
    "\n",
    "Practice makes perfect \n",
    "\n",
    "Expected Output: \n",
    "\n",
    "HELLO WORLD \n",
    "\n",
    "PRACTICE MAKES PERFECT "
   ]
  },
  {
   "cell_type": "code",
   "execution_count": 2,
   "metadata": {},
   "outputs": [
    {
     "name": "stdout",
     "output_type": "stream",
     "text": [
      "HELLO WORLD\n",
      "PRACTICE MAKES PERFECT\n"
     ]
    }
   ],
   "source": [
    "def sent_capital():\n",
    "    sentence=['Hello world','practice makes perfect']\n",
    "    capital_letter=[x.upper() for x in sentence]\n",
    "    for i in capital_letter:\n",
    "        print(i)\n",
    "sent_capital()"
   ]
  },
  {
   "cell_type": "markdown",
   "metadata": {},
   "source": [
    "6. Define a function that can receive two integral numbers in string form and compute their sum and print it in console.\n"
   ]
  },
  {
   "cell_type": "code",
   "execution_count": 7,
   "metadata": {},
   "outputs": [
    {
     "data": {
      "text/plain": [
       "30"
      ]
     },
     "execution_count": 7,
     "metadata": {},
     "output_type": "execute_result"
    }
   ],
   "source": [
    "def int_Sum(a, b):\n",
    "    total = int(a)+int(b) \n",
    "    return total\n",
    "\n",
    "int_Sum('10', '20')# to test if the function works"
   ]
  },
  {
   "cell_type": "markdown",
   "metadata": {},
   "source": [
    "7. Define a function that can accept two strings as input and print the string with maximum length in console.\n",
    "If two strings have the same length, then the function should print all strings line by line"
   ]
  },
  {
   "cell_type": "code",
   "execution_count": 8,
   "metadata": {},
   "outputs": [
    {
     "name": "stdout",
     "output_type": "stream",
     "text": [
      "The string with the maximum length is adhikari\n"
     ]
    }
   ],
   "source": [
    "def str_num(a, b):\n",
    "    if len(a) > len(b):\n",
    "        print(\"The string with the maximum length is\", a)\n",
    "    if len(b) > len(a):\n",
    "        print(\"The string with the maximum length is\", b)\n",
    "    if len(a) == len(b):\n",
    "        print(\"Both the strings have the same length. First string is\", a)\n",
    "        print(\"The second string is\", b)\n",
    "\n",
    "str_num('kiran','adhikari') "
   ]
  },
  {
   "cell_type": "markdown",
   "metadata": {},
   "source": [
    "8. Define a function which can generate and print a tuple where the value are square of numbers between 1 and 20.\n"
   ]
  },
  {
   "cell_type": "code",
   "execution_count": 16,
   "metadata": {},
   "outputs": [
    {
     "name": "stdout",
     "output_type": "stream",
     "text": [
      "(1, 4, 9, 16, 25, 36, 49, 64, 81, 100, 121, 144, 169, 196, 225, 256, 289, 324, 361)\n"
     ]
    }
   ],
   "source": [
    "def square():\n",
    "    a=list()\n",
    "    for i in range(1,20):\n",
    "       b= a.append(i**2)\n",
    "    print(tuple(a))\n",
    "square()\n",
    "        \n"
   ]
  },
  {
   "cell_type": "markdown",
   "metadata": {},
   "source": [
    "9. Write a function called showNumbers that takes a parameter called limit. It should print all the numbers \n",
    "between 0 and limit with a label to identify the even and odd numbers.Example: If the limit is 3 , it should print: \n",
    "0 EVEN \n",
    "1 ODD \n",
    "2 EVEN \n",
    "3 ODD "
   ]
  },
  {
   "cell_type": "code",
   "execution_count": 18,
   "metadata": {},
   "outputs": [
    {
     "name": "stdout",
     "output_type": "stream",
     "text": [
      "0 EVEN\n",
      "1 ODD\n",
      "2 EVEN\n",
      "3 ODD\n",
      "4 EVEN\n",
      "5 ODD\n"
     ]
    }
   ],
   "source": [
    "def showNumbers(limit):\n",
    "    for i in range(0,limit+1):\n",
    "        if i%2==0:\n",
    "            print(i,\"EVEN\")\n",
    "        else:\n",
    "            print(i,'ODD')\n",
    "showNumbers(5)"
   ]
  },
  {
   "cell_type": "markdown",
   "metadata": {},
   "source": [
    "10. Write a program which can filter() to make a list whose elements are even number between 1 and 20 ( both included"
   ]
  },
  {
   "cell_type": "code",
   "execution_count": 28,
   "metadata": {},
   "outputs": [
    {
     "name": "stdout",
     "output_type": "stream",
     "text": [
      "[2, 4, 6, 8, 10, 12, 14, 16, 18, 20]\n"
     ]
    }
   ],
   "source": [
    "list_number=list(range(1,21))\n",
    "results=filter(lambda x:(x%2==0),list_number)\n",
    "print(list(results))\n",
    "\n"
   ]
  },
  {
   "cell_type": "markdown",
   "metadata": {},
   "source": [
    "11. Write a program which can map() and filter() to make a list whose elements are square of even number \n",
    "in [1,2,3,4,5,6,7,8,9,10]\n",
    "Hints: Use map() to generate a list.\n",
    "Use filter() to filter elements of a list\n",
    "Use lambda to define anonymous functions"
   ]
  },
  {
   "cell_type": "code",
   "execution_count": null,
   "metadata": {},
   "outputs": [],
   "source": []
  }
 ],
 "metadata": {
  "kernelspec": {
   "display_name": "Python 3",
   "language": "python",
   "name": "python3"
  },
  "language_info": {
   "codemirror_mode": {
    "name": "ipython",
    "version": 3
   },
   "file_extension": ".py",
   "mimetype": "text/x-python",
   "name": "python",
   "nbconvert_exporter": "python",
   "pygments_lexer": "ipython3",
   "version": "3.7.4"
  }
 },
 "nbformat": 4,
 "nbformat_minor": 2
}
