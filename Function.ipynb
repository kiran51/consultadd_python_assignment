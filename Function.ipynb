{
 "cells": [
  {
   "cell_type": "markdown",
   "metadata": {},
   "source": [
    "1. Write a program using function USINto reverse a string. \n",
    "\n",
    "Sample data: “1234abcd” \n",
    "\n",
    "Expected Output: “dcba4321” "
   ]
  },
  {
   "cell_type": "code",
   "execution_count": 5,
   "metadata": {},
   "outputs": [
    {
     "name": "stdout",
     "output_type": "stream",
     "text": [
      "dcba4321\n"
     ]
    }
   ],
   "source": [
    "def reverse_string(string):\n",
    "    string1=''\n",
    "    index=len(string)\n",
    "    while index>0:\n",
    "        string1+=string[index-1]\n",
    "        index=index-1\n",
    "    return string1\n",
    "print(reverse_string('1234abcd'))\n"
   ]
  },
  {
   "cell_type": "markdown",
   "metadata": {},
   "source": [
    "2. Write a function that accepts a string and calculate the number of uppercase letters and lowercase letters. \n",
    "\n",
    "Expected Output: \n",
    "\n",
    "No. of Upper case characters : 3 \n",
    "\n",
    "No. of Lower case Characters : 12 \n",
    "\n",
    " "
   ]
  },
  {
   "cell_type": "code",
   "execution_count": 21,
   "metadata": {},
   "outputs": [
    {
     "name": "stdout",
     "output_type": "stream",
     "text": [
      "No of Upper case characters: 3\n",
      "No of lower case characters: 13\n"
     ]
    }
   ],
   "source": [
    "def string_test(s):\n",
    "    d={\"upper_case\":0, \"lower_case\":0}\n",
    "    for i in s:\n",
    "        if i.isupper():\n",
    "            d[\"upper_case\"]+=1\n",
    "        elif i.islower():\n",
    "            d[\"lower_case\"]+=1\n",
    "        else:\n",
    "            pass\n",
    "    print(\"No of Upper case characters:\",d[\"upper_case\"])\n",
    "    print(\"No of lower case characters:\",d[\"lower_case\"])\n",
    "string_test(\"KiranAdhikariSmt\")"
   ]
  },
  {
   "cell_type": "markdown",
   "metadata": {},
   "source": [
    "3.Create a function that takes a list and returns a new list with unique elements of the first list. "
   ]
  },
  {
   "cell_type": "code",
   "execution_count": 26,
   "metadata": {},
   "outputs": [
    {
     "name": "stdout",
     "output_type": "stream",
     "text": [
      "[1, 2, 3, 4, 5]\n"
     ]
    }
   ],
   "source": [
    "def unique_element(a):\n",
    "    s =[]\n",
    "    for i in a:\n",
    "        if i not in s:\n",
    "            s.append(i)\n",
    "    return(s)\n",
    "print(unique_element([1,2,2,3,4,4,5]))"
   ]
  },
  {
   "cell_type": "markdown",
   "metadata": {},
   "source": [
    "4. Write a program that accepts a hyphen-separated sequence of words as input and prints the words in a \n",
    "    hyphen-separated sequence after sorting them alphabetically. \n",
    "\n",
    " "
   ]
  },
  {
   "cell_type": "code",
   "execution_count": null,
   "metadata": {},
   "outputs": [],
   "source": []
  }
 ],
 "metadata": {
  "kernelspec": {
   "display_name": "Python 3",
   "language": "python",
   "name": "python3"
  },
  "language_info": {
   "codemirror_mode": {
    "name": "ipython",
    "version": 3
   },
   "file_extension": ".py",
   "mimetype": "text/x-python",
   "name": "python",
   "nbconvert_exporter": "python",
   "pygments_lexer": "ipython3",
   "version": "3.7.4"
  }
 },
 "nbformat": 4,
 "nbformat_minor": 2
}
