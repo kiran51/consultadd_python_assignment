{
 "cells": [
  {
   "cell_type": "code",
   "execution_count": null,
   "metadata": {},
   "outputs": [],
   "source": []
  },
  {
   "cell_type": "code",
   "execution_count": null,
   "metadata": {},
   "outputs": [],
   "source": [
    "inputs = [\n",
    "[1,0,0,1,0],\n",
    "[1,0,1,0,0],\n",
    "[0,0,1,0,1],\n",
    "[1,0,1,0,1],\n",
    "[1,0,1,1,0],\n",
    "]\n",
    "\n",
    "size= [1,2,2,2,5]\n",
    "\n",
    "c =[]\n",
    "index =[]\n",
    "\n",
    "j = 0\n",
    "for row in inputs:\n",
    "  i=0\n",
    "  index = []\n",
    "  count = 0\n",
    "  \n",
    "  while i < (len(row)):\n",
    "    if row[i] == 1:\n",
    "      index.append(i)\n",
    "    i+=1\n",
    "    \n",
    "  count+=1\n",
    "  indexOfOne.append(index)\n",
    "print(indexOfOne)\n",
    "\n",
    "\n",
    "for row in a:\n",
    "  counter = 0\n",
    "  for column in row:\n",
    "    if column == 1:\n",
    "      row[counter] =0\n",
    "      counter+=1\n",
    "  c.append(counter)\n",
    "print(c)"
   ]
  }
 ],
 "metadata": {
  "kernelspec": {
   "display_name": "Python 3",
   "language": "python",
   "name": "python3"
  },
  "language_info": {
   "codemirror_mode": {
    "name": "ipython",
    "version": 3
   },
   "file_extension": ".py",
   "mimetype": "text/x-python",
   "name": "python",
   "nbconvert_exporter": "python",
   "pygments_lexer": "ipython3",
   "version": "3.7.4"
  }
 },
 "nbformat": 4,
 "nbformat_minor": 2
}
